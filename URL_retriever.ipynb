{
 "cells": [
  {
   "cell_type": "code",
   "execution_count": 2,
   "metadata": {},
   "outputs": [],
   "source": [
    "import requests\n",
    "from bs4 import BeautifulSoup\n",
    "import os\n",
    "from selenium import webdriver\n",
    "from selenium.webdriver.common.by import By\n",
    "from selenium.webdriver.chrome.service import Service\n",
    "from selenium.webdriver.support.ui import WebDriverWait\n",
    "from selenium.webdriver.support import expected_conditions as EC\n",
    "import time"
   ]
  },
  {
   "cell_type": "code",
   "execution_count": 3,
   "metadata": {},
   "outputs": [],
   "source": [
    "#EXAMPLE_URL = \"https://www.psacard.com/cert/75518283\"\n",
    "search_URL = 'https://www.psacard.com/auctionprices#0%7Cyu%20gi%20oh'"
   ]
  },
  {
   "cell_type": "code",
   "execution_count": 4,
   "metadata": {},
   "outputs": [],
   "source": [
    "def find_card_links(driver):\n",
    "    td_elements = driver.find_elements(\"xpath\",'//td[@data-title=\"Item\"]')\n",
    "    return [element.find_element(\"xpath\",'./a').get_attribute('href') for element in td_elements]"
   ]
  },
  {
   "cell_type": "code",
   "execution_count": 5,
   "metadata": {},
   "outputs": [],
   "source": [
    "def next_page(driver):\n",
    "    next_button = WebDriverWait(driver, 3).until(\n",
    "                EC.element_to_be_clickable((By.XPATH, '//a[@class=\"next paginate_button\"]'))\n",
    "            )\n",
    "    next_button.click()"
   ]
  },
  {
   "cell_type": "code",
   "execution_count": 9,
   "metadata": {},
   "outputs": [],
   "source": [
    "driver = webdriver.Chrome()\n",
    "driver.get(search_URL)"
   ]
  },
  {
   "cell_type": "code",
   "execution_count": 11,
   "metadata": {},
   "outputs": [
    {
     "ename": "TimeoutException",
     "evalue": "Message: \nStacktrace:\n\tGetHandleVerifier [0x00007FF6A5EA2142+3514994]\n\t(No symbol) [0x00007FF6A5AC0CE2]\n\t(No symbol) [0x00007FF6A59676AA]\n\t(No symbol) [0x00007FF6A59B1860]\n\t(No symbol) [0x00007FF6A59B197C]\n\t(No symbol) [0x00007FF6A59F4EE7]\n\t(No symbol) [0x00007FF6A59D602F]\n\t(No symbol) [0x00007FF6A59F28F6]\n\t(No symbol) [0x00007FF6A59D5D93]\n\t(No symbol) [0x00007FF6A59A4BDC]\n\t(No symbol) [0x00007FF6A59A5C64]\n\tGetHandleVerifier [0x00007FF6A5ECE16B+3695259]\n\tGetHandleVerifier [0x00007FF6A5F26737+4057191]\n\tGetHandleVerifier [0x00007FF6A5F1E4E3+4023827]\n\tGetHandleVerifier [0x00007FF6A5BF04F9+689705]\n\t(No symbol) [0x00007FF6A5ACC048]\n\t(No symbol) [0x00007FF6A5AC8044]\n\t(No symbol) [0x00007FF6A5AC81C9]\n\t(No symbol) [0x00007FF6A5AB88C4]\n\tBaseThreadInitThunk [0x00007FFA97E1257D+29]\n\tRtlUserThreadStart [0x00007FFA9850AA58+40]\n",
     "output_type": "error",
     "traceback": [
      "\u001b[1;31m---------------------------------------------------------------------------\u001b[0m",
      "\u001b[1;31mTimeoutException\u001b[0m                          Traceback (most recent call last)",
      "Cell \u001b[1;32mIn[11], line 14\u001b[0m\n\u001b[0;32m     11\u001b[0m         file\u001b[38;5;241m.\u001b[39mwrite(\u001b[38;5;124mf\u001b[39m\u001b[38;5;124m\"\u001b[39m\u001b[38;5;132;01m{\u001b[39;00mlink\u001b[38;5;132;01m}\u001b[39;00m\u001b[38;5;130;01m\\n\u001b[39;00m\u001b[38;5;124m\"\u001b[39m)\n\u001b[0;32m     12\u001b[0m time\u001b[38;5;241m.\u001b[39msleep(\u001b[38;5;241m2\u001b[39m)\n\u001b[1;32m---> 14\u001b[0m \u001b[43mnext_page\u001b[49m\u001b[43m(\u001b[49m\u001b[43mdriver\u001b[49m\u001b[43m)\u001b[49m\n\u001b[0;32m     16\u001b[0m current_page \u001b[38;5;241m+\u001b[39m\u001b[38;5;241m=\u001b[39m \u001b[38;5;241m1\u001b[39m\n\u001b[0;32m     18\u001b[0m time\u001b[38;5;241m.\u001b[39msleep(\u001b[38;5;241m3\u001b[39m)\n",
      "Cell \u001b[1;32mIn[5], line 2\u001b[0m, in \u001b[0;36mnext_page\u001b[1;34m(driver)\u001b[0m\n\u001b[0;32m      1\u001b[0m \u001b[38;5;28;01mdef\u001b[39;00m \u001b[38;5;21mnext_page\u001b[39m(driver):\n\u001b[1;32m----> 2\u001b[0m     next_button \u001b[38;5;241m=\u001b[39m \u001b[43mWebDriverWait\u001b[49m\u001b[43m(\u001b[49m\u001b[43mdriver\u001b[49m\u001b[43m,\u001b[49m\u001b[43m \u001b[49m\u001b[38;5;241;43m3\u001b[39;49m\u001b[43m)\u001b[49m\u001b[38;5;241;43m.\u001b[39;49m\u001b[43muntil\u001b[49m\u001b[43m(\u001b[49m\n\u001b[0;32m      3\u001b[0m \u001b[43m                \u001b[49m\u001b[43mEC\u001b[49m\u001b[38;5;241;43m.\u001b[39;49m\u001b[43melement_to_be_clickable\u001b[49m\u001b[43m(\u001b[49m\u001b[43m(\u001b[49m\u001b[43mBy\u001b[49m\u001b[38;5;241;43m.\u001b[39;49m\u001b[43mXPATH\u001b[49m\u001b[43m,\u001b[49m\u001b[43m \u001b[49m\u001b[38;5;124;43m'\u001b[39;49m\u001b[38;5;124;43m//a[@class=\u001b[39;49m\u001b[38;5;124;43m\"\u001b[39;49m\u001b[38;5;124;43mnext paginate_button\u001b[39;49m\u001b[38;5;124;43m\"\u001b[39;49m\u001b[38;5;124;43m]\u001b[39;49m\u001b[38;5;124;43m'\u001b[39;49m\u001b[43m)\u001b[49m\u001b[43m)\u001b[49m\n\u001b[0;32m      4\u001b[0m \u001b[43m            \u001b[49m\u001b[43m)\u001b[49m\n\u001b[0;32m      5\u001b[0m     next_button\u001b[38;5;241m.\u001b[39mclick()\n",
      "File \u001b[1;32mp:\\tech projects\\AI Stelio\\psa-scrape\\.venv\\Lib\\site-packages\\selenium\\webdriver\\support\\wait.py:105\u001b[0m, in \u001b[0;36mWebDriverWait.until\u001b[1;34m(self, method, message)\u001b[0m\n\u001b[0;32m    103\u001b[0m     \u001b[38;5;28;01mif\u001b[39;00m time\u001b[38;5;241m.\u001b[39mmonotonic() \u001b[38;5;241m>\u001b[39m end_time:\n\u001b[0;32m    104\u001b[0m         \u001b[38;5;28;01mbreak\u001b[39;00m\n\u001b[1;32m--> 105\u001b[0m \u001b[38;5;28;01mraise\u001b[39;00m TimeoutException(message, screen, stacktrace)\n",
      "\u001b[1;31mTimeoutException\u001b[0m: Message: \nStacktrace:\n\tGetHandleVerifier [0x00007FF6A5EA2142+3514994]\n\t(No symbol) [0x00007FF6A5AC0CE2]\n\t(No symbol) [0x00007FF6A59676AA]\n\t(No symbol) [0x00007FF6A59B1860]\n\t(No symbol) [0x00007FF6A59B197C]\n\t(No symbol) [0x00007FF6A59F4EE7]\n\t(No symbol) [0x00007FF6A59D602F]\n\t(No symbol) [0x00007FF6A59F28F6]\n\t(No symbol) [0x00007FF6A59D5D93]\n\t(No symbol) [0x00007FF6A59A4BDC]\n\t(No symbol) [0x00007FF6A59A5C64]\n\tGetHandleVerifier [0x00007FF6A5ECE16B+3695259]\n\tGetHandleVerifier [0x00007FF6A5F26737+4057191]\n\tGetHandleVerifier [0x00007FF6A5F1E4E3+4023827]\n\tGetHandleVerifier [0x00007FF6A5BF04F9+689705]\n\t(No symbol) [0x00007FF6A5ACC048]\n\t(No symbol) [0x00007FF6A5AC8044]\n\t(No symbol) [0x00007FF6A5AC81C9]\n\t(No symbol) [0x00007FF6A5AB88C4]\n\tBaseThreadInitThunk [0x00007FFA97E1257D+29]\n\tRtlUserThreadStart [0x00007FFA9850AA58+40]\n"
     ]
    }
   ],
   "source": [
    "current_page = 1\n",
    "total_pages = 113  # Set the total number of pages accordingly\n",
    "\n",
    "while current_page <= total_pages:\n",
    "    links_on_page = find_card_links(driver)\n",
    "\n",
    "    output_file_path = 'links.txt'\n",
    "\n",
    "    with open(output_file_path, 'a') as file: \n",
    "        for link in links_on_page:\n",
    "            file.write(f\"{link}\\n\")\n",
    "    time.sleep(2)\n",
    "    \n",
    "    next_page(driver)\n",
    "\n",
    "    current_page += 1\n",
    "\n",
    "    time.sleep(3)"
   ]
  },
  {
   "cell_type": "code",
   "execution_count": null,
   "metadata": {},
   "outputs": [],
   "source": []
  }
 ],
 "metadata": {
  "kernelspec": {
   "display_name": "Python 3",
   "language": "python",
   "name": "python3"
  },
  "language_info": {
   "codemirror_mode": {
    "name": "ipython",
    "version": 3
   },
   "file_extension": ".py",
   "mimetype": "text/x-python",
   "name": "python",
   "nbconvert_exporter": "python",
   "pygments_lexer": "ipython3",
   "version": "3.11.5"
  }
 },
 "nbformat": 4,
 "nbformat_minor": 2
}
